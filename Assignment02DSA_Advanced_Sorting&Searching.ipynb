{
 "cells": [
  {
   "cell_type": "markdown",
   "id": "4d56673a",
   "metadata": {},
   "source": [
    "### Implement Binary Search\n"
   ]
  },
  {
   "cell_type": "code",
   "execution_count": 1,
   "id": "53a0f7ae",
   "metadata": {},
   "outputs": [
    {
     "name": "stdout",
     "output_type": "stream",
     "text": [
      "Element is present at index  3\n"
     ]
    }
   ],
   "source": [
    "def binarySearch(arr, l, r, x):\n",
    " \n",
    "    while l <= r:\n",
    " \n",
    "        mid = l + (r - l) // 2\n",
    " \n",
    "        \n",
    "        if arr[mid] == x:\n",
    "            return mid\n",
    " \n",
    "        \n",
    "        elif arr[mid] < x:\n",
    "            l = mid + 1\n",
    " \n",
    "        \n",
    "        else:\n",
    "            r = mid - 1\n",
    " \n",
    "    \n",
    "    \n",
    "    return -1\n",
    " \n",
    " \n",
    "\n",
    "arr = [2, 3, 4, 10, 40]\n",
    "x = 10\n",
    " \n",
    "\n",
    "result = binarySearch(arr, 0, len(arr)-1, x)\n",
    " \n",
    "if result != -1:\n",
    "    print(\"Element is present at index % d\" % result)\n",
    "else:\n",
    "    print(\"Element is not present in array\")"
   ]
  },
  {
   "cell_type": "markdown",
   "id": "aecf8c3d",
   "metadata": {},
   "source": [
    "### Implement Merge Sort\n"
   ]
  },
  {
   "cell_type": "code",
   "execution_count": 2,
   "id": "b8906bc4",
   "metadata": {},
   "outputs": [
    {
     "name": "stdout",
     "output_type": "stream",
     "text": [
      "Given array is\n",
      "12 11 13 5 6 7 \n",
      "Sorted array is: \n",
      "5 6 7 11 12 13 \n"
     ]
    }
   ],
   "source": [
    "def mergeSort(arr):\n",
    "    if len(arr) > 1:\n",
    "  \n",
    "         \n",
    "        mid = len(arr)//2\n",
    "  \n",
    "        \n",
    "        L = arr[:mid]\n",
    "  \n",
    "        \n",
    "        R = arr[mid:]\n",
    "  \n",
    "        \n",
    "        mergeSort(L)\n",
    "  \n",
    "        \n",
    "        mergeSort(R)\n",
    "  \n",
    "        i = j = k = 0\n",
    "  \n",
    "        \n",
    "        while i < len(L) and j < len(R):\n",
    "            if L[i] < R[j]:\n",
    "                arr[k] = L[i]\n",
    "                i += 1\n",
    "            else:\n",
    "                arr[k] = R[j]\n",
    "                j += 1\n",
    "            k += 1\n",
    "\n",
    "        \n",
    "        while i < len(L):\n",
    "            arr[k] = L[i]\n",
    "            i += 1\n",
    "            k += 1\n",
    "  \n",
    "        while j < len(R):\n",
    "            arr[k] = R[j]\n",
    "            j += 1\n",
    "            k += 1\n",
    "  \n",
    "\n",
    "  \n",
    "  \n",
    "def printList(arr):\n",
    "    for i in range(len(arr)):\n",
    "        print(arr[i], end=\" \")\n",
    "    print()\n",
    "  \n",
    "if __name__ == '__main__':\n",
    "    arr = [12, 11, 13, 5, 6, 7]\n",
    "    print(\"Given array is\", end=\"\\n\")\n",
    "    printList(arr)\n",
    "    mergeSort(arr)\n",
    "    print(\"Sorted array is: \", end=\"\\n\")\n",
    "    printList(arr)\n",
    "  "
   ]
  },
  {
   "cell_type": "markdown",
   "id": "983db540",
   "metadata": {},
   "source": [
    "### Implement Quick Sort\n"
   ]
  },
  {
   "cell_type": "code",
   "execution_count": 3,
   "id": "1e62425c",
   "metadata": {},
   "outputs": [
    {
     "name": "stdout",
     "output_type": "stream",
     "text": [
      "Sorted array: [1, 5, 7, 8, 9, 10]\n"
     ]
    }
   ],
   "source": [
    "def partition(array, low, high):\n",
    " \n",
    "  \n",
    "  pivot = array[high]\n",
    "  \n",
    "  i = low - 1\n",
    " \n",
    "  \n",
    "  for j in range(low, high):\n",
    "    if array[j] <= pivot:\n",
    "       \n",
    "      i = i + 1\n",
    " \n",
    "      \n",
    "      (array[i], array[j]) = (array[j], array[i])\n",
    " \n",
    "  \n",
    "  (array[i + 1], array[high]) = (array[high], array[i + 1])\n",
    " \n",
    "\n",
    "  return i + 1\n",
    " \n",
    "\n",
    "def quick_sort(array, low, high):\n",
    "  if low < high:\n",
    " \n",
    "\n",
    "    pi = partition(array, low, high)\n",
    " \n",
    "    \n",
    "    quick_sort(array, low, pi - 1)\n",
    " \n",
    "    \n",
    "    quick_sort(array, pi + 1, high)\n",
    " \n",
    "   \n",
    "         \n",
    "\n",
    "array = [ 10, 7, 8, 9, 1, 5]\n",
    "quick_sort(array, 0, len(array) - 1)\n",
    " \n",
    "print(f'Sorted array: {array}')\n",
    "     \n"
   ]
  },
  {
   "cell_type": "markdown",
   "id": "8e0a4565",
   "metadata": {},
   "source": [
    "### Implement Insertion Sort\n"
   ]
  },
  {
   "cell_type": "code",
   "execution_count": 4,
   "id": "61871577",
   "metadata": {},
   "outputs": [
    {
     "name": "stdout",
     "output_type": "stream",
     "text": [
      " 5\n",
      " 6\n",
      " 11\n",
      " 12\n",
      " 13\n"
     ]
    }
   ],
   "source": [
    "def insertionSort(arr):\n",
    "  \n",
    "    for i in range(1, len(arr)):\n",
    " \n",
    "        key = arr[i]\n",
    " \n",
    "         \n",
    "        j = i-1\n",
    "        while j >= 0 and key < arr[j] :\n",
    "                arr[j + 1] = arr[j]\n",
    "                j -= 1\n",
    "        arr[j + 1] = key\n",
    " \n",
    "  \n",
    "arr = [12, 11, 13, 5, 6]\n",
    "insertionSort(arr)\n",
    "for i in range(len(arr)):\n",
    "    print (\"% d\" % arr[i])"
   ]
  },
  {
   "cell_type": "markdown",
   "id": "6c8758c6",
   "metadata": {},
   "source": [
    "### Write a program to sort list of strings (similar to that of dictionary)\n"
   ]
  },
  {
   "cell_type": "code",
   "execution_count": 5,
   "id": "0c8c887e",
   "metadata": {},
   "outputs": [
    {
     "name": "stdout",
     "output_type": "stream",
     "text": [
      "initial list [' Edyoda abc', 'manjeet xab', 'akshat bac']\n",
      "result [' Edyoda abc', 'akshat bac', 'manjeet xab']\n"
     ]
    }
   ],
   "source": [
    "ini_list = [\" Edyoda abc\", \"manjeet xab\", \"akshat bac\"]\n",
    "  \n",
    "\n",
    "print (\"initial list\", str(ini_list))\n",
    "  \n",
    "\n",
    "ini_list.sort(key = lambda x: x.split()[1])\n",
    "      \n",
    "\n",
    "print (\"result\", str(ini_list))"
   ]
  },
  {
   "cell_type": "code",
   "execution_count": null,
   "id": "2f1f967c",
   "metadata": {},
   "outputs": [],
   "source": []
  },
  {
   "cell_type": "code",
   "execution_count": null,
   "id": "68d10cde",
   "metadata": {},
   "outputs": [],
   "source": []
  }
 ],
 "metadata": {
  "kernelspec": {
   "display_name": "Python 3 (ipykernel)",
   "language": "python",
   "name": "python3"
  },
  "language_info": {
   "codemirror_mode": {
    "name": "ipython",
    "version": 3
   },
   "file_extension": ".py",
   "mimetype": "text/x-python",
   "name": "python",
   "nbconvert_exporter": "python",
   "pygments_lexer": "ipython3",
   "version": "3.9.7"
  }
 },
 "nbformat": 4,
 "nbformat_minor": 5
}
